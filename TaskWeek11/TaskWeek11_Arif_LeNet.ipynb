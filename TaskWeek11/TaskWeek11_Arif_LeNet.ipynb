{
  "nbformat": 4,
  "nbformat_minor": 0,
  "metadata": {
    "colab": {
      "provenance": []
    },
    "kernelspec": {
      "name": "python3",
      "display_name": "Python 3"
    },
    "language_info": {
      "name": "python"
    }
  },
  "cells": [
    {
      "cell_type": "markdown",
      "source": [
        "Nama: Arif Muhammad Laduni\n",
        "\n",
        "NIM: 1103213003\n",
        "\n",
        "Tugas: Week 11\n",
        "\n",
        "Model: LeNet\n",
        "\n",
        "Link ChatGPT:[Link](https://chatgpt.com/c/ff92e4fa-f8ae-4a94-9e36-cadad4036344)"
      ],
      "metadata": {
        "id": "gVnNFIVsYUkk"
      }
    },
    {
      "cell_type": "markdown",
      "source": [
        "LeNet adalah salah satu arsitektur jaringan saraf tiruan (neural network) yang dikembangkan oleh Yann LeCun, Leon Bottou, Yoshua Bengio, dan Patrick Haffner pada tahun 1998. Arsitektur ini merupakan salah satu yang pertama kali digunakan secara luas dalam pengenalan pola dan klasifikasi gambar. Arsitektur ini terdiri dari dua lapisan konvolusi yang diikuti oleh lapisan pooling, kemudian diikuti oleh dua lapisan fully connected (sepenuhnya terhubung)."
      ],
      "metadata": {
        "id": "VAPrM1YkYSmC"
      }
    },
    {
      "cell_type": "markdown",
      "source": [
        "# Import Library"
      ],
      "metadata": {
        "id": "cU1xm5YNdt0x"
      }
    },
    {
      "cell_type": "code",
      "execution_count": 20,
      "metadata": {
        "id": "yt2B3HAJYHIl"
      },
      "outputs": [],
      "source": [
        "import torch\n",
        "import torch.nn as nn\n",
        "import torch.optim as optim\n",
        "import torch.nn.functional as F\n",
        "import torchvision\n",
        "import torchvision.transforms as transforms\n",
        "import numpy as np\n",
        "from sklearn.metrics import confusion_matrix\n",
        "import matplotlib.pyplot as plt\n",
        "import seaborn as sns"
      ]
    },
    {
      "cell_type": "code",
      "source": [
        "# Transformasi data\n",
        "transform = transforms.Compose([\n",
        "    transforms.ToTensor(),  # Mengubah gambar menjadi Tensor\n",
        "    transforms.Normalize((0.5,), (0.5,))  # Normalisasi gambar\n",
        "])\n",
        "\n",
        "# Mendownload dataset MNIST dan memuat dataloader untuk pelatihan dan pengujian\n",
        "trainset = torchvision.datasets.MNIST(root='./data', train=True, download=True, transform=transform)\n",
        "trainloader = torch.utils.data.DataLoader(trainset, batch_size=64, shuffle=True)\n",
        "\n",
        "testset = torchvision.datasets.MNIST(root='./data', train=False, download=True, transform=transform)\n",
        "testloader = torch.utils.data.DataLoader(testset, batch_size=64, shuffle=False)"
      ],
      "metadata": {
        "id": "ku2IFwspZw_a"
      },
      "execution_count": 21,
      "outputs": []
    },
    {
      "cell_type": "markdown",
      "source": [
        "# Permodelan LeNet"
      ],
      "metadata": {
        "id": "YQoApOYndply"
      }
    },
    {
      "cell_type": "code",
      "source": [
        "# Definisikan model LeNet\n",
        "class LeNet(nn.Module):\n",
        "    def __init__(self):\n",
        "        super(LeNet, self).__init__()\n",
        "        self.conv1 = nn.Conv2d(1, 6, kernel_size=5)\n",
        "        self.conv2 = nn.Conv2d(6, 16, kernel_size=5)\n",
        "        self.fc1 = nn.Linear(16*4*4, 120)\n",
        "        self.fc2 = nn.Linear(120, 84)\n",
        "        self.fc3 = nn.Linear(84, 10)\n",
        "\n",
        "    def forward(self, x):\n",
        "        x = F.relu(self.conv1(x))\n",
        "        x = F.max_pool2d(x, kernel_size=2, stride=2)\n",
        "        x = F.relu(self.conv2(x))\n",
        "        x = F.max_pool2d(x, kernel_size=2, stride=2)\n",
        "        x = x.view(-1, 16*4*4)\n",
        "        x = F.relu(self.fc1(x))\n",
        "        x = F.relu(self.fc2(x))\n",
        "        x = self.fc3(x)\n",
        "        return x\n",
        "\n",
        "# Membuat instance model LeNet\n",
        "model = LeNet()"
      ],
      "metadata": {
        "id": "RRlYqK8oZ9KD"
      },
      "execution_count": 22,
      "outputs": []
    },
    {
      "cell_type": "markdown",
      "source": [
        "# Latih Model"
      ],
      "metadata": {
        "id": "2F16dbf2dmiq"
      }
    },
    {
      "cell_type": "code",
      "source": [
        "# Tentukan loss function dan optimizer\n",
        "criterion = nn.CrossEntropyLoss()\n",
        "optimizer = optim.SGD(model.parameters(), lr=0.001, momentum=0.9)\n",
        "\n",
        "# Latih model\n",
        "num_epochs = 5\n",
        "for epoch in range(num_epochs):\n",
        "    running_loss = 0.0\n",
        "    for i, data in enumerate(trainloader, 0):\n",
        "        inputs, labels = data\n",
        "        optimizer.zero_grad()\n",
        "        outputs = model(inputs)\n",
        "        loss = criterion(outputs, labels)\n",
        "        loss.backward()\n",
        "        optimizer.step()\n",
        "\n",
        "        running_loss += loss.item()\n",
        "        if i % 100 == 99:\n",
        "            print('[%d, %5d] loss: %.3f' %\n",
        "                  (epoch + 1, i + 1, running_loss / 100))\n",
        "            running_loss = 0.0\n",
        "\n",
        "print('Finished Training')"
      ],
      "metadata": {
        "colab": {
          "base_uri": "https://localhost:8080/"
        },
        "id": "JuuJNHFXaaMl",
        "outputId": "a44069dc-2d55-4ec6-e172-23e700735f91"
      },
      "execution_count": 23,
      "outputs": [
        {
          "output_type": "stream",
          "name": "stdout",
          "text": [
            "[1,   100] loss: 2.302\n",
            "[1,   200] loss: 2.292\n",
            "[1,   300] loss: 2.279\n",
            "[1,   400] loss: 2.260\n",
            "[1,   500] loss: 2.217\n",
            "[1,   600] loss: 2.086\n",
            "[1,   700] loss: 1.585\n",
            "[1,   800] loss: 0.893\n",
            "[1,   900] loss: 0.647\n",
            "[2,   100] loss: 0.464\n",
            "[2,   200] loss: 0.374\n",
            "[2,   300] loss: 0.343\n",
            "[2,   400] loss: 0.338\n",
            "[2,   500] loss: 0.283\n",
            "[2,   600] loss: 0.265\n",
            "[2,   700] loss: 0.249\n",
            "[2,   800] loss: 0.232\n",
            "[2,   900] loss: 0.208\n",
            "[3,   100] loss: 0.208\n",
            "[3,   200] loss: 0.190\n",
            "[3,   300] loss: 0.190\n",
            "[3,   400] loss: 0.159\n",
            "[3,   500] loss: 0.182\n",
            "[3,   600] loss: 0.177\n",
            "[3,   700] loss: 0.162\n",
            "[3,   800] loss: 0.146\n",
            "[3,   900] loss: 0.155\n",
            "[4,   100] loss: 0.134\n",
            "[4,   200] loss: 0.146\n",
            "[4,   300] loss: 0.134\n",
            "[4,   400] loss: 0.143\n",
            "[4,   500] loss: 0.132\n",
            "[4,   600] loss: 0.129\n",
            "[4,   700] loss: 0.119\n",
            "[4,   800] loss: 0.120\n",
            "[4,   900] loss: 0.118\n",
            "[5,   100] loss: 0.114\n",
            "[5,   200] loss: 0.124\n",
            "[5,   300] loss: 0.099\n",
            "[5,   400] loss: 0.105\n",
            "[5,   500] loss: 0.109\n",
            "[5,   600] loss: 0.111\n",
            "[5,   700] loss: 0.101\n",
            "[5,   800] loss: 0.099\n",
            "[5,   900] loss: 0.101\n",
            "Finished Training\n"
          ]
        }
      ]
    },
    {
      "cell_type": "markdown",
      "source": [
        "# Evaluasi Model"
      ],
      "metadata": {
        "id": "Jmk47Qk-djhn"
      }
    },
    {
      "cell_type": "code",
      "source": [
        "correct = 0\n",
        "total = 0\n",
        "with torch.no_grad():  # Menonaktifkan perhitungan gradien saat evaluasi\n",
        "    for data in testloader:\n",
        "        images, labels = data\n",
        "        outputs = model(images)\n",
        "        _, predicted = torch.max(outputs.data, 1)  # Mengambil indeks kelas dengan probabilitas tertinggi\n",
        "        total += labels.size(0)\n",
        "        correct += (predicted == labels).sum().item()\n",
        "\n",
        "print('Accuracy of the network on the 10000 test images: %d %%' % (100 * correct / total))\n"
      ],
      "metadata": {
        "colab": {
          "base_uri": "https://localhost:8080/"
        },
        "id": "0JBnaw1Yblo2",
        "outputId": "500a943f-36df-4781-d1d7-84606e3eec37"
      },
      "execution_count": 24,
      "outputs": [
        {
          "output_type": "stream",
          "name": "stdout",
          "text": [
            "Accuracy of the network on the 10000 test images: 97 %\n"
          ]
        }
      ]
    },
    {
      "cell_type": "markdown",
      "source": [
        "# Visualisasi Model"
      ],
      "metadata": {
        "id": "NqGGZx-OdeyI"
      }
    },
    {
      "cell_type": "code",
      "source": [
        "# Inisialisasi variabel untuk menyimpan prediksi dan label sebenarnya\n",
        "all_predicted = []\n",
        "all_labels = []\n",
        "\n",
        "# Menerima prediksi dan label sebenarnya untuk semua data pengujian\n",
        "with torch.no_grad():\n",
        "    for data in testloader:\n",
        "        images, labels = data\n",
        "        outputs = model(images)\n",
        "        _, predicted = torch.max(outputs, 1)\n",
        "        all_predicted.extend(predicted.numpy())\n",
        "        all_labels.extend(labels.numpy())\n",
        "\n",
        "# Membuat confusion matrix\n",
        "cm = confusion_matrix(all_labels, all_predicted)\n",
        "\n",
        "# Visualisasi confusion matrix\n",
        "plt.figure(figsize=(10,8))\n",
        "sns.heatmap(cm, annot=True, fmt='d', cmap='Blues')\n",
        "plt.xlabel('Predicted labels')\n",
        "plt.ylabel('True labels')\n",
        "plt.title('Confusion Matrix')\n",
        "plt.show()"
      ],
      "metadata": {
        "colab": {
          "base_uri": "https://localhost:8080/",
          "height": 718
        },
        "id": "DkrdO6pOcLzI",
        "outputId": "cc3b494a-d753-43f9-d1d0-44a1857e03b5"
      },
      "execution_count": 25,
      "outputs": [
        {
          "output_type": "display_data",
          "data": {
            "text/plain": [
              "<Figure size 1000x800 with 2 Axes>"
            ],
            "image/png": "[encoded data removed]"
          },
          "metadata": {}
        }
      ]
    }
  ]
}